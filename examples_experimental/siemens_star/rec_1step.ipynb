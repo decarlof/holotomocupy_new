{
 "cells": [
  {
   "cell_type": "code",
   "execution_count": null,
   "id": "fad77fab-e206-47c1-9655-088d14fe30cb",
   "metadata": {},
   "outputs": [],
   "source": [
    "import numpy as np\n",
    "import matplotlib.pyplot as plt\n",
    "import h5py\n",
    "from holotomocupy.magnification import M\n",
    "from holotomocupy.shift import S, ST, registration_shift\n",
    "from holotomocupy.proc import remove_outliers\n",
    "from holotomocupy.recon_methods import CTFPurePhase, multiPaganin\n",
    "from holotomocupy.utils import *\n",
    "\n",
    "%matplotlib inline"
   ]
  },
  {
   "cell_type": "markdown",
   "id": "3c0fdd65-1cff-451e-865e-56cd8b7882a6",
   "metadata": {},
   "source": [
    "# Init data sizes and parametes of the PXM of ID16A"
   ]
  },
  {
   "cell_type": "code",
   "execution_count": null,
   "id": "59fa16f2-1f9c-4b3a-a330-e10942f12234",
   "metadata": {},
   "outputs": [],
   "source": [
    "n = 2048\n",
    "ndist = 4\n",
    "ntheta = 1\n",
    "\n",
    "# ID16a setup\n",
    "ndist = 4\n",
    "\n",
    "detector_pixelsize = 3e-6\n",
    "energy = 33.35  # [keV] xray energy\n",
    "wavelength = 1.2398419840550367e-09/energy  # [m] wave length\n",
    "\n",
    "focusToDetectorDistance = 1.28  # [m]\n",
    "sx0 = 3.7e-4\n",
    "z1 = np.array([4.584e-3, 4.765e-3, 5.488e-3, 6.9895e-3])[:ndist]-sx0\n",
    "z2 = focusToDetectorDistance-z1\n",
    "distances = (z1*z2)/focusToDetectorDistance\n",
    "magnifications = focusToDetectorDistance/z1\n",
    "voxelsize = detector_pixelsize/magnifications[0]*2048/n  # object voxel size\n",
    "\n",
    "norm_magnifications = magnifications/magnifications[0]\n",
    "# scaled propagation distances due to magnified probes\n",
    "distances = distances*norm_magnifications**2\n",
    "\n",
    "z1p = z1[0]  # positions of the probe for reconstruction\n",
    "z2p = z1-np.tile(z1p, len(z1))\n",
    "# magnification when propagating from the probe plane to the detector\n",
    "magnifications2 = (z1p+z2p)/z1p\n",
    "# propagation distances after switching from the point source wave to plane wave,\n",
    "distances2 = (z1p*z2p)/(z1p+z2p)\n",
    "norm_magnifications2 = magnifications2/(z1p/z1[0])  # normalized magnifications\n",
    "# scaled propagation distances due to magnified probes\n",
    "distances2 = distances2*norm_magnifications2**2\n",
    "distances2 = distances2*(z1p/z1)**2\n",
    "\n",
    "# allow padding if there are shifts of the probe\n",
    "pad = n//16\n",
    "# sample size after demagnification\n",
    "ne = int(np.ceil((n+2*pad)/norm_magnifications[-1]/8))*8  # make multiple of 8"
   ]
  },
  {
   "cell_type": "code",
   "execution_count": null,
   "id": "95549ecb",
   "metadata": {},
   "outputs": [],
   "source": [
    "\n",
    "nref = 20\n",
    "ndark = 20\n",
    "data00 = np.zeros([ntheta,ndist,n,n],dtype='float32')\n",
    "ref00 = np.zeros([nref,ndist,n,n],dtype='float32')\n",
    "dark00 = np.zeros([ndark,ndist,n,n],dtype='float32')\n",
    "for k in range(ndist):\n",
    "    with h5py.File(f'/data/viktor/SiemensLH_33keV_010nm_holoNfpScan_0{k+1}/SiemensLH_33keV_010nm_holoNfpScan_0{k+1}0000.h5','r') as fid:\n",
    "        data00[:,k] = fid['/entry_0000/measurement/data'][:1,1024-n//2:1024+n//2,1024-n//2:1024+n//2][:]\n",
    "    with h5py.File(f'/data/viktor/SiemensLH_33keV_010nm_holoNfpScan_0{k+1}/ref_0000.h5','r') as fid:\n",
    "        ref00[:,k]=fid['/entry_0000/measurement/data'][:nref,1024-n//2:1024+n//2,1024-n//2:1024+n//2][:]\n",
    "    with h5py.File(f'/data/viktor/SiemensLH_33keV_010nm_holoNfpScan_0{k+1}/dark_0000.h5','r') as fid:\n",
    "        dark00[:,k]=fid['/entry_0000/measurement/data'][:ndark,1024-n//2:1024+n//2,1024-n//2:1024+n//2][:]\n",
    "\n",
    "# remove outliers\n",
    "for k in range(ndist):\n",
    "    radius = 7\n",
    "    threshold = 20000\n",
    "    data00[:,k] = remove_outliers(data00[:,k], radius, threshold)\n",
    "    ref00[:,k] = remove_outliers(ref00[:,k], radius, threshold)        \n",
    "\n",
    "for k in range(ndist):\n",
    "    mshow(data00[0,k])\n",
    "for k in range(ndist):\n",
    "    mshow(ref00[0,k])"
   ]
  },
  {
   "cell_type": "markdown",
   "id": "49eb1696-bb30-496e-8c3d-565f2791112c",
   "metadata": {},
   "source": [
    "## Take mean for flat and dark"
   ]
  },
  {
   "cell_type": "code",
   "execution_count": null,
   "id": "a7b82c4e",
   "metadata": {},
   "outputs": [],
   "source": [
    "ref00 = np.mean(ref00,axis=0)[np.newaxis]\n",
    "dark00 = np.mean(dark00,axis=0)[np.newaxis]"
   ]
  },
  {
   "cell_type": "markdown",
   "id": "7d90f012",
   "metadata": {},
   "source": [
    "### Normalize everything wrt to the mean of the reference image"
   ]
  },
  {
   "cell_type": "code",
   "execution_count": null,
   "id": "8e671b5c",
   "metadata": {},
   "outputs": [],
   "source": [
    "mean_value = np.mean(ref00)\n",
    "dark00 = dark00.astype('float32')/mean_value\n",
    "ref00 = ref00.astype('float32')/mean_value\n",
    "data00 = data00.astype('float32')/mean_value\n",
    "\n",
    "\n",
    "data00 = data00-np.mean(dark00,axis=0)\n",
    "ref00 = ref00-np.mean(dark00,axis=0)\n",
    "\n",
    "data00[data00<0] = 0\n",
    "ref00[ref00<0] = 0"
   ]
  },
  {
   "cell_type": "markdown",
   "id": "769dad54",
   "metadata": {},
   "source": [
    "# Find shifts of reference images"
   ]
  },
  {
   "cell_type": "code",
   "execution_count": null,
   "id": "ca9a2109",
   "metadata": {},
   "outputs": [],
   "source": [
    "shifts_ref0 = np.zeros([1, ndist, 2], dtype='float32')\n",
    "for k in range(ndist):\n",
    "    shifts_ref0[:, k] = registration_shift(ref00[:, k], ref00[:, 0], upsample_factor=1000)\n",
    "print(f'Found shifts: \\n{shifts_ref0=}')\n",
    "\n",
    "shifts_ref = np.zeros([ntheta, ndist, 2], dtype='float32')\n",
    "for k in range(ndist):\n",
    "    im = np.tile(ref00[0, 0], [ntheta, 1, 1])\n",
    "    shifts_ref[:, k] = registration_shift(data00[:, k], im, upsample_factor=1000)  \n",
    "print(f'Found shifts: \\n{shifts_ref=}')\n"
   ]
  },
  {
   "cell_type": "markdown",
   "id": "1977742d",
   "metadata": {},
   "source": [
    "### Assuming the shifts are calculated, shifts refs back"
   ]
  },
  {
   "cell_type": "code",
   "execution_count": null,
   "id": "34c13a3b",
   "metadata": {},
   "outputs": [],
   "source": [
    "data0 = data00.copy()\n",
    "ref0 = ref00.copy()\n",
    "# shifted refs for correction\n",
    "for k in range(ndist):\n",
    "    # shift refs back\n",
    "    ref0[:, k] = ST(ref0[:, k].astype('complex64'), shifts_ref0[:, k]).real\n",
    "\n",
    "ref0c = np.tile(np.array(ref0), (ntheta, 1, 1, 1))\n",
    "for k in range(ndist):\n",
    "    # shift refs the position where they were when collecting data\n",
    "    ref0c[:, k] = S(ref0c[:, k].astype('complex64'), shifts_ref[:, k]).real\n",
    "\n",
    "for k in range(ndist):    \n",
    "    fig, axs = plt.subplots(1, 2, figsize=(8, 3))\n",
    "    im = axs[0].imshow(ref00[0, 0]-ref00[0, k], cmap='gray',vmax=.03,vmin=-.03)\n",
    "    axs[0].set_title('ref[0]-ref[k]')\n",
    "    fig.colorbar(im)\n",
    "    # ,vmin=-500,vmax=500)\n",
    "    im = axs[1].imshow(ref0[0, 0]-ref0[0, k], cmap='gray',vmax=.03,vmin=-.03)\n",
    "    axs[1].set_title('shifted ref[0]-ref[k] ')\n",
    "    fig.colorbar(im)"
   ]
  },
  {
   "cell_type": "markdown",
   "id": "3dffba8d",
   "metadata": {},
   "source": [
    "### divide data by the reference image"
   ]
  },
  {
   "cell_type": "code",
   "execution_count": null,
   "id": "adcc3a0d",
   "metadata": {},
   "outputs": [],
   "source": [
    "rdata = data0/(ref0+1e-9)"
   ]
  },
  {
   "cell_type": "code",
   "execution_count": null,
   "id": "07852b10",
   "metadata": {},
   "outputs": [],
   "source": [
    "for k in range(ndist):\n",
    "    fig, axs = plt.subplots(1, 2, figsize=(8, 3))\n",
    "    im=axs[0].imshow(data0[0,k],cmap='gray',vmax=2)\n",
    "    axs[0].set_title(f'data dist {k}')\n",
    "    fig.colorbar(im)\n",
    "    im=axs[1].imshow(rdata[0,k],cmap='gray',vmax=1.1,vmin=0.9)\n",
    "    axs[1].set_title(f'rdata dist {k}')\n",
    "    fig.colorbar(im)"
   ]
  },
  {
   "cell_type": "markdown",
   "id": "5e247e07",
   "metadata": {},
   "source": [
    "### Scale images"
   ]
  },
  {
   "cell_type": "code",
   "execution_count": null,
   "id": "83c4de98",
   "metadata": {},
   "outputs": [],
   "source": [
    "rdata_scaled = rdata.copy()\n",
    "\n",
    "for k in range(ndist):\n",
    "    rdata_scaled[:, k] = M(rdata_scaled[:, k], 1/norm_magnifications[k], n).real\n",
    "\n",
    "for k in range(ndist):\n",
    "    fig, axs = plt.subplots(1, 3, figsize=(12, 3))\n",
    "    im = axs[0].imshow(rdata_scaled[0, 0], cmap='gray', vmin=0.9, vmax=1.1)\n",
    "    axs[0].set_title(f'shifted rdata_scaled dist {k}')\n",
    "    fig.colorbar(im)\n",
    "    im = axs[1].imshow(rdata_scaled[0, k], cmap='gray', vmin=0.9, vmax=1.1)\n",
    "    axs[1].set_title(f'shifted rdata_scaled dist {k}')\n",
    "    fig.colorbar(im)\n",
    "    im = axs[2].imshow(rdata_scaled[0, k]-rdata_scaled[0, 0], cmap='gray', vmin=-0.1, vmax=0.1)\n",
    "    axs[2].set_title(f'difference')\n",
    "    fig.colorbar(im)"
   ]
  },
  {
   "cell_type": "markdown",
   "id": "526bf856",
   "metadata": {},
   "source": [
    "### Align images between different planes\n"
   ]
  },
  {
   "cell_type": "markdown",
   "id": "24f407ac",
   "metadata": {},
   "source": [
    "#### Approach 1. Align data"
   ]
  },
  {
   "cell_type": "code",
   "execution_count": null,
   "id": "1b417680",
   "metadata": {},
   "outputs": [],
   "source": [
    "# shifts_drift = np.zeros([ntheta,ndist,2],dtype='float32')\n",
    "\n",
    "# for k in range(1,ndist):\n",
    "#     shifts_drift[:,k] = registration_shift(rdata_scaled[:,k],rdata_scaled[:,0],upsample_factor=1000)\n",
    "\n",
    "# # note shifts_drift should be after magnification.\n",
    "# shifts_drift*=norm_magnifications[np.newaxis,:,np.newaxis]\n",
    "\n",
    "# shifts_drift_median = shifts_drift.copy()\n",
    "# shifts_drift_median[:] = np.median(shifts_drift,axis=0)\n",
    "\n",
    "# print(shifts_drift_median[0],shifts_drift_init[0])\n",
    "# for k in range(ndist):\n",
    "#     fig, axs = plt.subplots(1, 2, figsize=(10, 3))\n",
    "#     im=axs[0].plot(shifts_drift[:,k,0],'.')\n",
    "#     im=axs[0].plot(shifts_drift_median[:,k,0],'.')\n",
    "#     im=axs[0].plot(shifts_drift_init[:,k,0],'r.')\n",
    "#     axs[0].set_title(f'distance {k}, shifts y')\n",
    "#     im=axs[1].plot(shifts_drift[:,k,1],'.')\n",
    "#     im=axs[1].plot(shifts_drift_median[:,k,1],'.')\n",
    "#     im=axs[1].plot(shifts_drift_init[:,k,1],'r.')\n",
    "#     axs[1].set_title(f'distance {k}, shifts x')\n",
    "#     # plt.show()"
   ]
  },
  {
   "cell_type": "markdown",
   "id": "78a44584",
   "metadata": {},
   "source": [
    "#### Approach 2. Align CTF reconstructions from 1 distance"
   ]
  },
  {
   "cell_type": "code",
   "execution_count": null,
   "id": "683cea30",
   "metadata": {},
   "outputs": [],
   "source": [
    "recCTF_1dist = np.zeros([ntheta, ndist, n, n], dtype='float32')\n",
    "distances_ctf = (distances/norm_magnifications**2)[:ndist]\n",
    "\n",
    "for k in range(ndist):\n",
    "    recCTF_1dist[:, k] = CTFPurePhase(\n",
    "        rdata_scaled[:, k:k+1], distances_ctf[k:k+1], wavelength, voxelsize, 1e-2)\n",
    "\n",
    "plt.figure(figsize=(4, 4))\n",
    "plt.title(f'CTF reconstruction for distance {ndist-1}')\n",
    "plt.imshow(recCTF_1dist[0, -1], cmap='gray',vmax=0.06,vmin=-0.06)\n",
    "plt.colorbar()\n",
    "plt.show()\n",
    "\n",
    "shifts_drift = np.zeros([ntheta, ndist, 2], dtype='float32')\n",
    "\n",
    "for k in range(1, ndist):\n",
    "    shifts_drift[:, k] = registration_shift(\n",
    "        recCTF_1dist[:, k], recCTF_1dist[:, 0], upsample_factor=1000)\n",
    "\n",
    "# note shifts_drift should be after magnification.\n",
    "shifts_drift *= norm_magnifications[np.newaxis, :, np.newaxis]\n",
    "\n",
    "    \n",
    "print(f'Found shifts: \\n{shifts_drift=}')\n"
   ]
  },
  {
   "cell_type": "code",
   "execution_count": null,
   "id": "ddbdf3bb",
   "metadata": {},
   "outputs": [],
   "source": [
    "rdata_scaled_aligned = rdata_scaled.copy()\n",
    "for k in range(ndist):\n",
    "    rdata_scaled_aligned[:, k] = ST(rdata_scaled[:, k], shifts_drift[:, k]/norm_magnifications[k]).real\n",
    "    \n",
    "for k in range(ndist):\n",
    "    fig, axs = plt.subplots(1, 3, figsize=(11, 3))\n",
    "    im = axs[0].imshow(rdata_scaled_aligned[0, 0], cmap='gray', vmin=.9, vmax=1.1)\n",
    "    axs[0].set_title(f'shifted rdata_scaled dist {k}')\n",
    "    fig.colorbar(im)\n",
    "    im = axs[1].imshow(rdata_scaled_aligned[0, k], cmap='gray', vmin=.9, vmax=1.1)\n",
    "    axs[1].set_title(f'shifted rdata_scaled dist {k}')\n",
    "    fig.colorbar(im)\n",
    "    im = axs[2].imshow(rdata_scaled_aligned[0, k] - rdata_scaled_aligned[0, 0], cmap='gray', vmin=-0.1, vmax=.1)\n",
    "    axs[2].set_title(f'difference')\n",
    "    fig.colorbar(im)"
   ]
  },
  {
   "cell_type": "markdown",
   "id": "ae593ca0",
   "metadata": {},
   "source": [
    "#### Reconstruction by the MultiPaganin method"
   ]
  },
  {
   "cell_type": "code",
   "execution_count": null,
   "id": "e82ed53b",
   "metadata": {},
   "outputs": [],
   "source": [
    "# distances should not be normalized\n",
    "distances_pag = (distances/norm_magnifications**2)[:ndist]\n",
    "recMultiPaganin = multiPaganin(rdata_scaled_aligned, distances_pag, wavelength, voxelsize, 10, 1e-12)\n",
    "plt.imshow(recMultiPaganin[0],cmap='gray')\n",
    "plt.colorbar()"
   ]
  },
  {
   "cell_type": "markdown",
   "id": "d3dd07e3",
   "metadata": {},
   "source": [
    "#### Reconstruction by the CTF pure phase method"
   ]
  },
  {
   "cell_type": "code",
   "execution_count": null,
   "id": "38a7cb15",
   "metadata": {},
   "outputs": [],
   "source": [
    "distances_ctf = (distances/norm_magnifications**2)[:ndist]\n",
    "\n",
    "recCTF = CTFPurePhase(rdata_scaled_aligned, distances_ctf, wavelength, voxelsize, 1e-2)\n",
    "plt.imshow(recCTF[0],cmap='gray',vmax=0.03,vmin=-0.03)\n",
    "plt.colorbar()\n",
    "plt.show()\n",
    "plt.imshow(recCTF[0,750:750+500,500:1000],cmap='gray',vmax=0.03,vmin=-0.03)\n",
    "plt.colorbar()\n",
    "plt.show()"
   ]
  }
 ],
 "metadata": {
  "kernelspec": {
   "display_name": "Python 3 (ipykernel)",
   "language": "python",
   "name": "python3"
  },
  "language_info": {
   "codemirror_mode": {
    "name": "ipython",
    "version": 3
   },
   "file_extension": ".py",
   "mimetype": "text/x-python",
   "name": "python",
   "nbconvert_exporter": "python",
   "pygments_lexer": "ipython3",
   "version": "3.10.13"
  }
 },
 "nbformat": 4,
 "nbformat_minor": 5
}
